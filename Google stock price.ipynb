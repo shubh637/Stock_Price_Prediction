{
 "cells": [
  {
   "cell_type": "code",
   "execution_count": 1,
   "metadata": {},
   "outputs": [],
   "source": [
    "import numpy as np \n",
    "import pandas as pd \n",
    "import matplotlib.pyplot as plt \n",
    "from sklearn.preprocessing import MinMaxScaler\n",
    "from keras.models import Sequential\n",
    "from keras.layers import Dense,LSTM,Dropout"
   ]
  },
  {
   "cell_type": "code",
   "execution_count": 2,
   "metadata": {},
   "outputs": [
    {
     "data": {
      "text/html": [
       "<div>\n",
       "<style scoped>\n",
       "    .dataframe tbody tr th:only-of-type {\n",
       "        vertical-align: middle;\n",
       "    }\n",
       "\n",
       "    .dataframe tbody tr th {\n",
       "        vertical-align: top;\n",
       "    }\n",
       "\n",
       "    .dataframe thead th {\n",
       "        text-align: right;\n",
       "    }\n",
       "</style>\n",
       "<table border=\"1\" class=\"dataframe\">\n",
       "  <thead>\n",
       "    <tr style=\"text-align: right;\">\n",
       "      <th></th>\n",
       "      <th>Date</th>\n",
       "      <th>Open</th>\n",
       "      <th>High</th>\n",
       "      <th>Low</th>\n",
       "      <th>Close</th>\n",
       "      <th>Volume</th>\n",
       "    </tr>\n",
       "  </thead>\n",
       "  <tbody>\n",
       "    <tr>\n",
       "      <th>0</th>\n",
       "      <td>1/3/2012</td>\n",
       "      <td>325.25</td>\n",
       "      <td>332.83</td>\n",
       "      <td>324.97</td>\n",
       "      <td>663.59</td>\n",
       "      <td>7,380,500</td>\n",
       "    </tr>\n",
       "    <tr>\n",
       "      <th>1</th>\n",
       "      <td>1/4/2012</td>\n",
       "      <td>331.27</td>\n",
       "      <td>333.87</td>\n",
       "      <td>329.08</td>\n",
       "      <td>666.45</td>\n",
       "      <td>5,749,400</td>\n",
       "    </tr>\n",
       "    <tr>\n",
       "      <th>2</th>\n",
       "      <td>1/5/2012</td>\n",
       "      <td>329.83</td>\n",
       "      <td>330.75</td>\n",
       "      <td>326.89</td>\n",
       "      <td>657.21</td>\n",
       "      <td>6,590,300</td>\n",
       "    </tr>\n",
       "    <tr>\n",
       "      <th>3</th>\n",
       "      <td>1/6/2012</td>\n",
       "      <td>328.34</td>\n",
       "      <td>328.77</td>\n",
       "      <td>323.68</td>\n",
       "      <td>648.24</td>\n",
       "      <td>5,405,900</td>\n",
       "    </tr>\n",
       "    <tr>\n",
       "      <th>4</th>\n",
       "      <td>1/9/2012</td>\n",
       "      <td>322.04</td>\n",
       "      <td>322.29</td>\n",
       "      <td>309.46</td>\n",
       "      <td>620.76</td>\n",
       "      <td>11,688,800</td>\n",
       "    </tr>\n",
       "  </tbody>\n",
       "</table>\n",
       "</div>"
      ],
      "text/plain": [
       "       Date    Open    High     Low   Close      Volume\n",
       "0  1/3/2012  325.25  332.83  324.97  663.59   7,380,500\n",
       "1  1/4/2012  331.27  333.87  329.08  666.45   5,749,400\n",
       "2  1/5/2012  329.83  330.75  326.89  657.21   6,590,300\n",
       "3  1/6/2012  328.34  328.77  323.68  648.24   5,405,900\n",
       "4  1/9/2012  322.04  322.29  309.46  620.76  11,688,800"
      ]
     },
     "execution_count": 2,
     "metadata": {},
     "output_type": "execute_result"
    }
   ],
   "source": [
    "data = pd.read_csv('Google_train_data.csv')\n",
    "data.head()"
   ]
  },
  {
   "cell_type": "code",
   "execution_count": 3,
   "metadata": {},
   "outputs": [
    {
     "name": "stdout",
     "output_type": "stream",
     "text": [
      "<class 'pandas.core.frame.DataFrame'>\n",
      "RangeIndex: 1258 entries, 0 to 1257\n",
      "Data columns (total 6 columns):\n",
      " #   Column  Non-Null Count  Dtype  \n",
      "---  ------  --------------  -----  \n",
      " 0   Date    1258 non-null   object \n",
      " 1   Open    1258 non-null   float64\n",
      " 2   High    1258 non-null   float64\n",
      " 3   Low     1258 non-null   float64\n",
      " 4   Close   1258 non-null   object \n",
      " 5   Volume  1258 non-null   object \n",
      "dtypes: float64(3), object(3)\n",
      "memory usage: 59.1+ KB\n"
     ]
    }
   ],
   "source": [
    "data.info()"
   ]
  },
  {
   "cell_type": "code",
   "execution_count": 4,
   "metadata": {},
   "outputs": [],
   "source": [
    "data[\"Close\"]=pd.to_numeric(data.Close,errors='coerce')\n",
    "data = data.dropna()\n",
    "trainData = data.iloc[:,4:5].values"
   ]
  },
  {
   "cell_type": "code",
   "execution_count": 5,
   "metadata": {},
   "outputs": [
    {
     "name": "stdout",
     "output_type": "stream",
     "text": [
      "<class 'pandas.core.frame.DataFrame'>\n",
      "Index: 1149 entries, 0 to 1257\n",
      "Data columns (total 6 columns):\n",
      " #   Column  Non-Null Count  Dtype  \n",
      "---  ------  --------------  -----  \n",
      " 0   Date    1149 non-null   object \n",
      " 1   Open    1149 non-null   float64\n",
      " 2   High    1149 non-null   float64\n",
      " 3   Low     1149 non-null   float64\n",
      " 4   Close   1149 non-null   float64\n",
      " 5   Volume  1149 non-null   object \n",
      "dtypes: float64(4), object(2)\n",
      "memory usage: 62.8+ KB\n"
     ]
    }
   ],
   "source": [
    "data.info()"
   ]
  },
  {
   "cell_type": "code",
   "execution_count": 6,
   "metadata": {},
   "outputs": [
    {
     "data": {
      "text/plain": [
       "(1149, 1)"
      ]
     },
     "execution_count": 6,
     "metadata": {},
     "output_type": "execute_result"
    }
   ],
   "source": [
    "sc = MinMaxScaler(feature_range=(0,1))\n",
    "trainData = sc.fit_transform(trainData)\n",
    "trainData.shape"
   ]
  },
  {
   "cell_type": "code",
   "execution_count": 7,
   "metadata": {},
   "outputs": [],
   "source": [
    "X_train = []\n",
    "y_train = []\n",
    "\n",
    "for i in range (60,1149): #60 : timestep // 1149 : length of the data\n",
    "    X_train.append(trainData[i-60:i,0]) \n",
    "    y_train.append(trainData[i,0])\n",
    "\n",
    "X_train,y_train = np.array(X_train),np.array(y_train)"
   ]
  },
  {
   "cell_type": "code",
   "execution_count": 8,
   "metadata": {},
   "outputs": [
    {
     "data": {
      "text/plain": [
       "(1089, 60, 1)"
      ]
     },
     "execution_count": 8,
     "metadata": {},
     "output_type": "execute_result"
    }
   ],
   "source": [
    "X_train = np.reshape(X_train,(X_train.shape[0],X_train.shape[1],1)) #adding the batch_size axis\n",
    "X_train.shape"
   ]
  },
  {
   "cell_type": "code",
   "execution_count": 9,
   "metadata": {},
   "outputs": [
    {
     "name": "stderr",
     "output_type": "stream",
     "text": [
      "c:\\Users\\TUSHAR SAIN\\AppData\\Local\\Programs\\Python\\Python311\\Lib\\site-packages\\keras\\src\\layers\\rnn\\rnn.py:204: UserWarning: Do not pass an `input_shape`/`input_dim` argument to a layer. When using Sequential models, prefer using an `Input(shape)` object as the first layer in the model instead.\n",
      "  super().__init__(**kwargs)\n"
     ]
    }
   ],
   "source": [
    "model = Sequential()\n",
    "\n",
    "model.add(LSTM(units=100, return_sequences = True, input_shape =(X_train.shape[1],1)))\n",
    "model.add(Dropout(0.2))\n",
    "\n",
    "model.add(LSTM(units=100, return_sequences = True))\n",
    "model.add(Dropout(0.2))\n",
    "\n",
    "model.add(LSTM(units=100, return_sequences = True))\n",
    "model.add(Dropout(0.2))\n",
    "\n",
    "model.add(LSTM(units=100, return_sequences = False))\n",
    "model.add(Dropout(0.2))\n",
    "\n",
    "model.add(Dense(units =1))\n",
    "model.compile(optimizer='adam',loss=\"mean_squared_error\")"
   ]
  },
  {
   "cell_type": "code",
   "execution_count": 10,
   "metadata": {},
   "outputs": [
    {
     "name": "stdout",
     "output_type": "stream",
     "text": [
      "Epoch 1/20\n",
      "35/35 - 19s - 541ms/step - loss: 0.0380\n",
      "Epoch 2/20\n",
      "35/35 - 5s - 154ms/step - loss: 0.0115\n",
      "Epoch 3/20\n",
      "35/35 - 5s - 149ms/step - loss: 0.0099\n",
      "Epoch 4/20\n",
      "35/35 - 6s - 177ms/step - loss: 0.0076\n",
      "Epoch 5/20\n",
      "35/35 - 6s - 160ms/step - loss: 0.0104\n",
      "Epoch 6/20\n",
      "35/35 - 6s - 160ms/step - loss: 0.0079\n",
      "Epoch 7/20\n",
      "35/35 - 6s - 162ms/step - loss: 0.0084\n",
      "Epoch 8/20\n",
      "35/35 - 5s - 151ms/step - loss: 0.0064\n",
      "Epoch 9/20\n",
      "35/35 - 5s - 155ms/step - loss: 0.0064\n",
      "Epoch 10/20\n",
      "35/35 - 5s - 155ms/step - loss: 0.0071\n",
      "Epoch 11/20\n",
      "35/35 - 5s - 146ms/step - loss: 0.0065\n",
      "Epoch 12/20\n",
      "35/35 - 5s - 145ms/step - loss: 0.0062\n",
      "Epoch 13/20\n",
      "35/35 - 5s - 151ms/step - loss: 0.0052\n",
      "Epoch 14/20\n",
      "35/35 - 6s - 161ms/step - loss: 0.0058\n",
      "Epoch 15/20\n",
      "35/35 - 5s - 147ms/step - loss: 0.0069\n",
      "Epoch 16/20\n",
      "35/35 - 5s - 148ms/step - loss: 0.0060\n",
      "Epoch 17/20\n",
      "35/35 - 5s - 144ms/step - loss: 0.0053\n",
      "Epoch 18/20\n",
      "35/35 - 5s - 143ms/step - loss: 0.0054\n",
      "Epoch 19/20\n",
      "35/35 - 6s - 163ms/step - loss: 0.0078\n",
      "Epoch 20/20\n",
      "35/35 - 6s - 160ms/step - loss: 0.0040\n"
     ]
    }
   ],
   "source": [
    "hist = model.fit(X_train, y_train, epochs = 20, batch_size = 32, verbose=2)"
   ]
  },
  {
   "cell_type": "code",
   "execution_count": 11,
   "metadata": {},
   "outputs": [
    {
     "data": {
      "image/png": "[encoded data removed]",
      "text/plain": [
       "<Figure size 640x480 with 1 Axes>"
      ]
     },
     "metadata": {},
     "output_type": "display_data"
    }
   ],
   "source": [
    "plt.plot(hist.history['loss'])\n",
    "plt.title('Training model loss')\n",
    "plt.ylabel('loss')\n",
    "plt.xlabel('epoch')\n",
    "plt.legend(['train'], loc='upper left')\n",
    "plt.show()"
   ]
  },
  {
   "cell_type": "code",
   "execution_count": 12,
   "metadata": {},
   "outputs": [
    {
     "data": {
      "text/plain": [
       "(192, 60, 1)"
      ]
     },
     "execution_count": 12,
     "metadata": {},
     "output_type": "execute_result"
    }
   ],
   "source": [
    "testData = pd.read_csv('Google_test_data.csv')\n",
    "testData[\"Close\"]=pd.to_numeric(testData.Close,errors='coerce')\n",
    "testData = testData.dropna()\n",
    "testData = testData.iloc[:,4:5]\n",
    "y_test = testData.iloc[60:,0:].values \n",
    "#input array for the model\n",
    "inputClosing = testData.iloc[:,0:].values \n",
    "inputClosing_scaled = sc.transform(inputClosing)\n",
    "inputClosing_scaled.shape\n",
    "X_test = []\n",
    "length = len(testData)\n",
    "timestep = 60\n",
    "for i in range(timestep,length):  \n",
    "    X_test.append(inputClosing_scaled[i-timestep:i,0])\n",
    "X_test = np.array(X_test)\n",
    "X_test = np.reshape(X_test,(X_test.shape[0],X_test.shape[1],1))\n",
    "X_test.shape"
   ]
  },
  {
   "cell_type": "code",
   "execution_count": 13,
   "metadata": {},
   "outputs": [
    {
     "name": "stdout",
     "output_type": "stream",
     "text": [
      "\u001b[1m6/6\u001b[0m \u001b[32m━━━━━━━━━━━━━━━━━━━━\u001b[0m\u001b[37m\u001b[0m \u001b[1m2s\u001b[0m 62ms/step\n"
     ]
    },
    {
     "data": {
      "text/plain": [
       "array([[1.1646672],\n",
       "       [1.1662874],\n",
       "       [1.1754597],\n",
       "       [1.1897258],\n",
       "       [1.2012845],\n",
       "       [1.2011448],\n",
       "       [1.1896447],\n",
       "       [1.1737632],\n",
       "       [1.1635237],\n",
       "       [1.1609007],\n",
       "       [1.1554581],\n",
       "       [1.1459936],\n",
       "       [1.1372086],\n",
       "       [1.1289334],\n",
       "       [1.126826 ],\n",
       "       [1.1304281],\n",
       "       [1.1457738],\n",
       "       [1.1701672],\n",
       "       [1.1980865],\n",
       "       [1.2257512],\n",
       "       [1.2372155],\n",
       "       [1.2347093],\n",
       "       [1.2174771],\n",
       "       [1.1925579],\n",
       "       [1.1701006],\n",
       "       [1.1575629],\n",
       "       [1.1550647],\n",
       "       [1.1553212],\n",
       "       [1.1495097],\n",
       "       [1.139917 ],\n",
       "       [1.1289326],\n",
       "       [1.116385 ],\n",
       "       [1.0979754],\n",
       "       [1.0753131],\n",
       "       [1.0655273],\n",
       "       [1.0731608],\n",
       "       [1.0919322],\n",
       "       [1.1134455],\n",
       "       [1.1336741],\n",
       "       [1.1437645],\n",
       "       [1.1538066],\n",
       "       [1.1663336],\n",
       "       [1.1813378],\n",
       "       [1.1957124],\n",
       "       [1.2058438],\n",
       "       [1.2078836],\n",
       "       [1.20025  ],\n",
       "       [1.1932031],\n",
       "       [1.191739 ],\n",
       "       [1.1974759],\n",
       "       [1.2094616],\n",
       "       [1.2179652],\n",
       "       [1.2207965],\n",
       "       [1.2186794],\n",
       "       [1.2174842],\n",
       "       [1.2146176],\n",
       "       [1.2078311],\n",
       "       [1.2044313],\n",
       "       [1.2121053],\n",
       "       [1.2276618],\n",
       "       [1.2499685],\n",
       "       [1.2765962],\n",
       "       [1.2954642],\n",
       "       [1.29925  ],\n",
       "       [1.2896329],\n",
       "       [1.2729882],\n",
       "       [1.2613777],\n",
       "       [1.2579399],\n",
       "       [1.2613   ],\n",
       "       [1.2663708],\n",
       "       [1.2713666],\n",
       "       [1.2742735],\n",
       "       [1.2712349],\n",
       "       [1.2663584],\n",
       "       [1.2621216],\n",
       "       [1.2608117],\n",
       "       [1.2624732],\n",
       "       [1.2666918],\n",
       "       [1.276536 ],\n",
       "       [1.2914457],\n",
       "       [1.3107136],\n",
       "       [1.3292754],\n",
       "       [1.3401374],\n",
       "       [1.342162 ],\n",
       "       [1.3453231],\n",
       "       [1.3558019],\n",
       "       [1.3713052],\n",
       "       [1.3852184],\n",
       "       [1.3938433],\n",
       "       [1.396773 ],\n",
       "       [1.3988469],\n",
       "       [1.4071931],\n",
       "       [1.4220887],\n",
       "       [1.4329436],\n",
       "       [1.4335394],\n",
       "       [1.4238346],\n",
       "       [1.406231 ],\n",
       "       [1.3855338],\n",
       "       [1.3680397],\n",
       "       [1.361573 ],\n",
       "       [1.366753 ],\n",
       "       [1.3801161],\n",
       "       [1.3980529],\n",
       "       [1.4138108],\n",
       "       [1.423437 ],\n",
       "       [1.4253231],\n",
       "       [1.4227394],\n",
       "       [1.4191339],\n",
       "       [1.419278 ],\n",
       "       [1.4237564],\n",
       "       [1.4317676],\n",
       "       [1.4427311],\n",
       "       [1.4538546],\n",
       "       [1.465596 ],\n",
       "       [1.4798615],\n",
       "       [1.4921391],\n",
       "       [1.5017424],\n",
       "       [1.5100756],\n",
       "       [1.5203105],\n",
       "       [1.5072331],\n",
       "       [1.4694742],\n",
       "       [1.4199867],\n",
       "       [1.3789225],\n",
       "       [1.355352 ],\n",
       "       [1.3451235],\n",
       "       [1.3418486],\n",
       "       [1.3410652],\n",
       "       [1.3416157],\n",
       "       [1.3357587],\n",
       "       [1.3218172],\n",
       "       [1.3140941],\n",
       "       [1.3194245],\n",
       "       [1.3308553],\n",
       "       [1.337168 ],\n",
       "       [1.3383753],\n",
       "       [1.3368541],\n",
       "       [1.3321923],\n",
       "       [1.3242277],\n",
       "       [1.3151608],\n",
       "       [1.3032353],\n",
       "       [1.2906487],\n",
       "       [1.2767668],\n",
       "       [1.248674 ],\n",
       "       [1.2141466],\n",
       "       [1.1800327],\n",
       "       [1.1529474],\n",
       "       [1.1404986],\n",
       "       [1.1450597],\n",
       "       [1.1611435],\n",
       "       [1.1809855],\n",
       "       [1.2011293],\n",
       "       [1.2176794],\n",
       "       [1.2302667],\n",
       "       [1.2410746],\n",
       "       [1.2498634],\n",
       "       [1.2579147],\n",
       "       [1.2670249],\n",
       "       [1.2748015],\n",
       "       [1.273426 ],\n",
       "       [1.2620027],\n",
       "       [1.2442466],\n",
       "       [1.2266548],\n",
       "       [1.2169487],\n",
       "       [1.2189445],\n",
       "       [1.2318583],\n",
       "       [1.2523239],\n",
       "       [1.2710083],\n",
       "       [1.2850748],\n",
       "       [1.2971312],\n",
       "       [1.308174 ],\n",
       "       [1.3175186],\n",
       "       [1.3253723],\n",
       "       [1.3319038],\n",
       "       [1.3350449],\n",
       "       [1.3347559],\n",
       "       [1.3285422],\n",
       "       [1.3201334],\n",
       "       [1.3143214],\n",
       "       [1.3104819],\n",
       "       [1.3068072],\n",
       "       [1.3293628],\n",
       "       [1.3721957],\n",
       "       [1.4168282],\n",
       "       [1.4488443],\n",
       "       [1.4627117],\n",
       "       [1.4582912],\n",
       "       [1.432991 ],\n",
       "       [1.4008398],\n",
       "       [1.3733246],\n",
       "       [1.3625672],\n",
       "       [1.3635114],\n",
       "       [1.3670832]], dtype=float32)"
      ]
     },
     "execution_count": 13,
     "metadata": {},
     "output_type": "execute_result"
    }
   ],
   "source": [
    "y_pred = model.predict(X_test)\n",
    "y_pred"
   ]
  },
  {
   "cell_type": "code",
   "execution_count": 14,
   "metadata": {},
   "outputs": [],
   "source": [
    "predicted_price = sc.inverse_transform(y_pred)"
   ]
  },
  {
   "cell_type": "code",
   "execution_count": 15,
   "metadata": {},
   "outputs": [
    {
     "data": {
      "image/png": "[encoded data removed]",
      "text/plain": [
       "<Figure size 640x480 with 1 Axes>"
      ]
     },
     "metadata": {},
     "output_type": "display_data"
    }
   ],
   "source": [
    "plt.plot(y_test, color = 'red', label = 'Actual Stock Price')\n",
    "plt.plot(predicted_price, color = 'green', label = 'Predicted Stock Price')\n",
    "plt.title('Google stock price prediction')\n",
    "plt.xlabel('Time')\n",
    "plt.ylabel('Stock Price')\n",
    "plt.legend()\n",
    "plt.show()"
   ]
  },
  {
   "cell_type": "code",
   "execution_count": null,
   "metadata": {},
   "outputs": [],
   "source": []
  }
 ],
 "metadata": {
  "kernelspec": {
   "display_name": "Python 3",
   "language": "python",
   "name": "python3"
  },
  "language_info": {
   "codemirror_mode": {
    "name": "ipython",
    "version": 3
   },
   "file_extension": ".py",
   "mimetype": "text/x-python",
   "name": "python",
   "nbconvert_exporter": "python",
   "pygments_lexer": "ipython3",
   "version": "3.11.3"
  }
 },
 "nbformat": 4,
 "nbformat_minor": 4
}
